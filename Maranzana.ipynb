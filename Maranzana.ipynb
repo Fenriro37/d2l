{
  "nbformat": 4,
  "nbformat_minor": 0,
  "metadata": {
    "colab": {
      "name": "Untitled0.ipynb",
      "provenance": []
    },
    "kernelspec": {
      "name": "python3",
      "display_name": "Python 3"
    },
    "language_info": {
      "name": "python"
    }
  },
  "cells": [
    {
      "cell_type": "code",
      "execution_count": 11,
      "metadata": {
        "colab": {
          "base_uri": "https://localhost:8080/",
          "height": 253
        },
        "id": "GUN1UNRdhFKK",
        "outputId": "4add6bf5-bab8-4f66-9964-9de6b3020edc"
      },
      "outputs": [
        {
          "output_type": "error",
          "ename": "ValueError",
          "evalue": "ignored",
          "traceback": [
            "\u001b[0;31m---------------------------------------------------------------------------\u001b[0m",
            "\u001b[0;31mValueError\u001b[0m                                Traceback (most recent call last)",
            "\u001b[0;32m<ipython-input-11-56e3a91d84fe>\u001b[0m in \u001b[0;36m<module>\u001b[0;34m()\u001b[0m\n\u001b[1;32m     25\u001b[0m   \u001b[0malpha\u001b[0m \u001b[0;34m=\u001b[0m \u001b[0mnp\u001b[0m\u001b[0;34m.\u001b[0m\u001b[0mzeros\u001b[0m\u001b[0;34m(\u001b[0m\u001b[0mi\u001b[0m\u001b[0;34m)\u001b[0m\u001b[0;34m\u001b[0m\u001b[0;34m\u001b[0m\u001b[0m\n\u001b[1;32m     26\u001b[0m   \u001b[0mA\u001b[0m \u001b[0;34m=\u001b[0m \u001b[0mcreateA\u001b[0m\u001b[0;34m(\u001b[0m\u001b[0mx\u001b[0m\u001b[0;34m,\u001b[0m\u001b[0mi\u001b[0m\u001b[0;34m)\u001b[0m\u001b[0;34m\u001b[0m\u001b[0;34m\u001b[0m\u001b[0m\n\u001b[0;32m---> 27\u001b[0;31m   \u001b[0mmaxSize\u001b[0m \u001b[0;34m=\u001b[0m \u001b[0mmax\u001b[0m\u001b[0;34m(\u001b[0m\u001b[0mx\u001b[0m\u001b[0;34m,\u001b[0m\u001b[0mi\u001b[0m\u001b[0;34m)\u001b[0m\u001b[0;34m\u001b[0m\u001b[0;34m\u001b[0m\u001b[0m\n\u001b[0m\u001b[1;32m     28\u001b[0m   \u001b[0mA1\u001b[0m \u001b[0;34m=\u001b[0m \u001b[0mnp\u001b[0m\u001b[0;34m.\u001b[0m\u001b[0mzeros\u001b[0m\u001b[0;34m(\u001b[0m\u001b[0;34m(\u001b[0m\u001b[0mmaxSize\u001b[0m\u001b[0;34m,\u001b[0m\u001b[0mmaxSize\u001b[0m\u001b[0;34m)\u001b[0m\u001b[0;34m)\u001b[0m\u001b[0;34m\u001b[0m\u001b[0;34m\u001b[0m\u001b[0m\n\u001b[1;32m     29\u001b[0m   \u001b[0mA1\u001b[0m \u001b[0;34m+=\u001b[0m \u001b[0mA\u001b[0m\u001b[0;34m\u001b[0m\u001b[0;34m\u001b[0m\u001b[0m\n",
            "\u001b[0;31mValueError\u001b[0m: The truth value of an array with more than one element is ambiguous. Use a.any() or a.all()"
          ]
        }
      ],
      "source": [
        "import numpy as np\n",
        "import scipy.linalg as sl\n",
        "import matplotlib.pyplot as plt\n",
        "\n",
        "def f(x):\n",
        "  return(x*np.exp(x))\n",
        "def createA(m,n):\n",
        "  A = np.zeros((m.size,n))\n",
        "  for i in range(m.size):\n",
        "    for j in range(n):\n",
        "      A[i,j] = x[i] ** j\n",
        "  return A\n",
        "def p(x,alpha):\n",
        "  res = 0\n",
        "  for i in range(alpha.size):\n",
        "    res += alpha[i] *x ** i\n",
        "  return res\n",
        "\n",
        "n = [1,2,3]\n",
        "N = 10\n",
        "for i in n:\n",
        "  i += 1\n",
        "  x = np.linspace(-1,1,N)\n",
        "  y = f(x)\n",
        "  alpha = np.zeros(i)\n",
        "  A = createA(x,i)\n",
        "  maxSize = max(x,i) #tentativo creazione matricce quadtrata\n",
        "  A1 = np.zeros((maxSize,maxSize))\n",
        "  A1 += A\n",
        "  L = np.linalg.cholesky(A) #lower triangular\n",
        "  y1 = sl.solve_triangular(L,y, lower=True) \n",
        "  alpha = sl.solve_triangular(L.T,y1, lower=False)\n",
        "  print (alpha.shape)\n",
        "  biggerX = np.linspace(-3,3,100)\n",
        "  fPoints = f(biggerX)\n",
        "  pPoints = p(biggerX, alpha)\n",
        "  plt.plot(biggerX,fPoints, color='red')\n",
        "  plt.plot(biggerX,pPoints, color='orange')\n",
        "  plt.plot(x,y,marker='O')\n",
        "  errInZero = abs( (f(0)-p(0,alpha))/ f(0) ) #norma su scalari uguale a valore assoluto\n",
        "  print('Errore in zero: ', errInZero)\n",
        "  norm2 = np.linalg.norm(x-y,2)/ np.linalg.norm(y,2)\n",
        "  print('Norma 2: ', norm2)"
      ]
    }
  ]
}