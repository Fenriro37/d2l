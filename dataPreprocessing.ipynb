{
  "nbformat": 4,
  "nbformat_minor": 0,
  "metadata": {
    "colab": {
      "name": "dataPreprocessing.ipynb",
      "provenance": [],
      "authorship_tag": "ABX9TyOhyDTEyV5TdUIX/5fH5cAi",
      "include_colab_link": true
    },
    "kernelspec": {
      "name": "python3",
      "display_name": "Python 3"
    },
    "language_info": {
      "name": "python"
    }
  },
  "cells": [
    {
      "cell_type": "markdown",
      "metadata": {
        "id": "view-in-github",
        "colab_type": "text"
      },
      "source": [
        "<a href=\"https://colab.research.google.com/github/Fenriro37/d2l/blob/main/dataPreprocessing.ipynb\" target=\"_parent\"><img src=\"https://colab.research.google.com/assets/colab-badge.svg\" alt=\"Open In Colab\"/></a>"
      ]
    },
    {
      "cell_type": "code",
      "execution_count": 41,
      "metadata": {
        "colab": {
          "base_uri": "https://localhost:8080/"
        },
        "id": "kE9j3bj1iUoZ",
        "outputId": "559ce064-b511-4099-f684-225d1b6c4274"
      },
      "outputs": [
        {
          "output_type": "stream",
          "name": "stdout",
          "text": [
            "../data/house_tiny.csv\n"
          ]
        }
      ],
      "source": [
        "import os\n",
        "\n",
        "os.makedirs(os.path.join('..', 'data'), exist_ok=True)\n",
        "data_file = os.path.join('..', 'data', 'house_tiny.csv')\n",
        "print(data_file)\n",
        "with open(data_file, 'w') as f:\n",
        "    f.write('NumRooms,Alley,Price\\n')  # Column names\n",
        "    f.write('2,Pave,127500\\n')  # Each row represents a data example\n",
        "    f.write('3,NA,106000\\n')\n",
        "    f.write('NA,NA,178100\\n')\n",
        "    f.write('1,NA,140000\\n')"
      ]
    },
    {
      "cell_type": "code",
      "source": [
        "import pandas as pd\n",
        "\n",
        "data = pd.read_csv(data_file)\n",
        "print(data)"
      ],
      "metadata": {
        "colab": {
          "base_uri": "https://localhost:8080/"
        },
        "id": "Bmy66dLri5hg",
        "outputId": "9fc387a2-f455-49db-fb35-4e181aef1270"
      },
      "execution_count": 42,
      "outputs": [
        {
          "output_type": "stream",
          "name": "stdout",
          "text": [
            "   NumRooms Alley   Price\n",
            "0       2.0  Pave  127500\n",
            "1       3.0   NaN  106000\n",
            "2       NaN   NaN  178100\n",
            "3       1.0   NaN  140000\n"
          ]
        }
      ]
    },
    {
      "cell_type": "code",
      "source": [
        "inputs, outputs = data.iloc[:, 0:2], data.iloc[:, 2] #iloc = integerLocation. Split the table using pandas method\n",
        "inputs = inputs.fillna(inputs.mean()) #NaN become equal to the mean in that specific column\n",
        "print('inputs \\n', inputs)\n",
        "print('outputs \\n', outputs)"
      ],
      "metadata": {
        "colab": {
          "base_uri": "https://localhost:8080/"
        },
        "id": "7MQoUcg4qhLM",
        "outputId": "5d236819-c480-456b-9416-421eb84f2e7d"
      },
      "execution_count": 48,
      "outputs": [
        {
          "output_type": "stream",
          "name": "stdout",
          "text": [
            "inputs \n",
            "    NumRooms Alley\n",
            "0       2.0  Pave\n",
            "1       3.0   NaN\n",
            "2       2.0   NaN\n",
            "3       1.0   NaN\n",
            "outputs \n",
            " 0    127500\n",
            "1    106000\n",
            "2    178100\n",
            "3    140000\n",
            "Name: Price, dtype: int64\n"
          ]
        },
        {
          "output_type": "stream",
          "name": "stderr",
          "text": [
            "/usr/local/lib/python3.7/dist-packages/ipykernel_launcher.py:2: FutureWarning: Dropping of nuisance columns in DataFrame reductions (with 'numeric_only=None') is deprecated; in a future version this will raise TypeError.  Select only valid columns before calling the reduction.\n",
            "  \n"
          ]
        }
      ]
    },
    {
      "cell_type": "code",
      "source": [
        "inputs = pd.get_dummies(inputs, dummy_na=True) #in this case we only have two values (Pave, NaN)  for Alley so get_dummies() creates two columns from it: 1 where Alley is Pave/NaN and 0 otherwise \n",
        "print(inputs)"
      ],
      "metadata": {
        "colab": {
          "base_uri": "https://localhost:8080/"
        },
        "id": "3PWIGN6xr1CL",
        "outputId": "6a668a2b-b9b2-425f-e6ca-7671987a1891"
      },
      "execution_count": 50,
      "outputs": [
        {
          "output_type": "stream",
          "name": "stdout",
          "text": [
            "   NumRooms  Alley_Pave  Alley_nan\n",
            "0       2.0           1          0\n",
            "1       3.0           0          1\n",
            "2       2.0           0          1\n",
            "3       1.0           0          1\n"
          ]
        }
      ]
    },
    {
      "cell_type": "code",
      "source": [
        "import tensorflow as tf\n",
        "\n",
        "X, y = tf.constant(inputs.values), tf.constant(outputs.values)\n",
        "print(X)\n",
        "print(y)"
      ],
      "metadata": {
        "colab": {
          "base_uri": "https://localhost:8080/"
        },
        "id": "WpDiAvrDq27C",
        "outputId": "344c5fae-8bad-4214-f42f-d09d98b4b1ab"
      },
      "execution_count": 45,
      "outputs": [
        {
          "output_type": "stream",
          "name": "stdout",
          "text": [
            "tf.Tensor(\n",
            "[[2. 1. 0.]\n",
            " [3. 0. 1.]\n",
            " [2. 0. 1.]\n",
            " [1. 0. 1.]], shape=(4, 3), dtype=float64)\n",
            "tf.Tensor([127500 106000 178100 140000], shape=(4,), dtype=int64)\n"
          ]
        }
      ]
    },
    {
      "cell_type": "code",
      "source": [
        "def get_max_col_name(data):\n",
        "  print(type(data))\n",
        "  print(data)\n",
        "  max = data.isnull().sum().max()  #isnull() converts the dataframe to boolean where NaN becomes true. sum() iterates for every column and count how many values are true. max() returns the maximum value\n",
        "  \"\"\"\n",
        "  print(type(data.isnull()))\n",
        "  print('null \\n',data.isnull())\n",
        "  nullColums = data.isnull().sum()\n",
        "  print(type(nullColums))\n",
        "  print('sum \\n',nullColums)\n",
        "  print('max \\n',data.isnull().sum().max())\n",
        "  \"\"\"\n",
        "  for i in range(len(data.columns)):\n",
        "    if data.iloc[:,i].isnull().sum() == max:\n",
        "      \"\"\"\n",
        "      print('iloc \\n',data.iloc[:,i].name)\n",
        "      print('iloc \\n',data.iloc[:,i])\n",
        "      \"\"\"\n",
        "      return data.iloc[:,i].name\n",
        "      \n",
        "data_dropna = data.drop(columns=[get_max_col_name(data)], axis=1)  #drop() lets you remove parts of the dataframe, in this case the column with more NaN\n",
        "print(data_dropna)"
      ],
      "metadata": {
        "colab": {
          "base_uri": "https://localhost:8080/"
        },
        "id": "37jX9ZGCe3lY",
        "outputId": "c9ba68da-1c1d-4f9c-8378-74161fdbc0fd"
      },
      "execution_count": 49,
      "outputs": [
        {
          "output_type": "stream",
          "name": "stdout",
          "text": [
            "<class 'pandas.core.frame.DataFrame'>\n",
            "   NumRooms Alley   Price\n",
            "0       2.0  Pave  127500\n",
            "1       3.0   NaN  106000\n",
            "2       NaN   NaN  178100\n",
            "3       1.0   NaN  140000\n",
            "   NumRooms   Price\n",
            "0       2.0  127500\n",
            "1       3.0  106000\n",
            "2       NaN  178100\n",
            "3       1.0  140000\n"
          ]
        }
      ]
    }
  ]
}