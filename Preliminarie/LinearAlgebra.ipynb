{
  "nbformat": 4,
  "nbformat_minor": 0,
  "metadata": {
    "colab": {
      "name": "LinearAlgebra.ipynb",
      "provenance": [],
      "authorship_tag": "ABX9TyNyynWEcR7K76rHswblE5hv",
      "include_colab_link": true
    },
    "kernelspec": {
      "name": "python3",
      "display_name": "Python 3"
    },
    "language_info": {
      "name": "python"
    }
  },
  "cells": [
    {
      "cell_type": "markdown",
      "metadata": {
        "id": "view-in-github",
        "colab_type": "text"
      },
      "source": [
        "<a href=\"https://colab.research.google.com/github/Fenriro37/d2l/blob/main/Preliminarie/LinearAlgebra.ipynb\" target=\"_parent\"><img src=\"https://colab.research.google.com/assets/colab-badge.svg\" alt=\"Open In Colab\"/></a>"
      ]
    },
    {
      "cell_type": "markdown",
      "source": [
        "#Scalars"
      ],
      "metadata": {
        "id": "YZ8uIHUL-TnE"
      }
    },
    {
      "cell_type": "code",
      "execution_count": 1,
      "metadata": {
        "colab": {
          "base_uri": "https://localhost:8080/"
        },
        "id": "nu1mG1c38Dd6",
        "outputId": "a503d9fa-eb33-4cb2-ce7d-9afa510dc9d7"
      },
      "outputs": [
        {
          "output_type": "stream",
          "name": "stdout",
          "text": [
            "tf.Tensor(3.0, shape=(), dtype=float32) tf.Tensor(2.0, shape=(), dtype=float32)\n"
          ]
        }
      ],
      "source": [
        "import tensorflow as tf\n",
        "\n",
        "x = tf.constant(3.0)\n",
        "y = tf.constant(2.0)\n",
        "print(x,y)"
      ]
    },
    {
      "cell_type": "markdown",
      "source": [
        "#Vectors"
      ],
      "metadata": {
        "id": "2uIfsSw--Gtd"
      }
    },
    {
      "cell_type": "code",
      "source": [
        "x = tf.range(4)\n",
        "print(x)\n",
        "print(x[3])\n",
        "print(len(x))\n",
        "print(x.shape)"
      ],
      "metadata": {
        "colab": {
          "base_uri": "https://localhost:8080/"
        },
        "id": "XTH59I6Q-RVN",
        "outputId": "856ab7cb-f055-4b7c-a380-a822c888ff52"
      },
      "execution_count": 2,
      "outputs": [
        {
          "output_type": "stream",
          "name": "stdout",
          "text": [
            "tf.Tensor([0 1 2 3], shape=(4,), dtype=int32)\n",
            "tf.Tensor(3, shape=(), dtype=int32)\n",
            "4\n",
            "(4,)\n"
          ]
        }
      ]
    },
    {
      "cell_type": "markdown",
      "source": [
        "#Matrices"
      ],
      "metadata": {
        "id": "oZl-ynWHBEzN"
      }
    },
    {
      "cell_type": "code",
      "source": [
        "A = tf.reshape(tf.range(20), (5,4))\n",
        "tf.cast(A, tf.float32)\n",
        "print(A)\n",
        "print(A[3][3])\n",
        "AT = tf.transpose(A)\n",
        "print(AT)\n",
        "\n",
        "B = tf.constant([[1, 2, 3], [2, 0, 4], [3, 4, 5]])\n",
        "print(B)\n",
        "print(B == tf.transpose(B)) #true because B is a symmetric matrix"
      ],
      "metadata": {
        "colab": {
          "base_uri": "https://localhost:8080/"
        },
        "id": "VBalJazKBHCM",
        "outputId": "15283f86-52f5-4c51-9231-f6c56714c912"
      },
      "execution_count": 21,
      "outputs": [
        {
          "output_type": "stream",
          "name": "stdout",
          "text": [
            "tf.Tensor(\n",
            "[[ 0  1  2  3]\n",
            " [ 4  5  6  7]\n",
            " [ 8  9 10 11]\n",
            " [12 13 14 15]\n",
            " [16 17 18 19]], shape=(5, 4), dtype=int32)\n",
            "tf.Tensor(15, shape=(), dtype=int32)\n",
            "tf.Tensor(\n",
            "[[ 0  4  8 12 16]\n",
            " [ 1  5  9 13 17]\n",
            " [ 2  6 10 14 18]\n",
            " [ 3  7 11 15 19]], shape=(4, 5), dtype=int32)\n",
            "tf.Tensor(\n",
            "[[1 2 3]\n",
            " [2 0 4]\n",
            " [3 4 5]], shape=(3, 3), dtype=int32)\n",
            "tf.Tensor(\n",
            "[[ True  True  True]\n",
            " [ True  True  True]\n",
            " [ True  True  True]], shape=(3, 3), dtype=bool)\n"
          ]
        }
      ]
    },
    {
      "cell_type": "markdown",
      "source": [
        "#Tensors"
      ],
      "metadata": {
        "id": "YHOZT-OPCh8p"
      }
    },
    {
      "cell_type": "code",
      "source": [
        "X = tf.reshape(tf.range(24),(2, 3, 4))\n",
        "print(X)\n",
        "print(tf.reduce_sum(X)) #sum of every elements \n",
        "A_sum_axis0 = tf.reduce_sum(A, axis=0)\n",
        "print(A_sum_axis0, A_sum_axis0.shape)\n",
        "sum_A = tf.reduce_sum(A, axis=1, keepdims=True)\n",
        "print(sum_A)"
      ],
      "metadata": {
        "colab": {
          "base_uri": "https://localhost:8080/"
        },
        "id": "_1MCP_XFCjcD",
        "outputId": "a0022460-b37a-478e-9119-99f1c1faf191"
      },
      "execution_count": 22,
      "outputs": [
        {
          "output_type": "stream",
          "name": "stdout",
          "text": [
            "tf.Tensor(\n",
            "[[[ 0  1  2  3]\n",
            "  [ 4  5  6  7]\n",
            "  [ 8  9 10 11]]\n",
            "\n",
            " [[12 13 14 15]\n",
            "  [16 17 18 19]\n",
            "  [20 21 22 23]]], shape=(2, 3, 4), dtype=int32)\n",
            "tf.Tensor(276, shape=(), dtype=int32)\n",
            "tf.Tensor([40 45 50 55], shape=(4,), dtype=int32) (4,)\n",
            "tf.Tensor(\n",
            "[[ 6]\n",
            " [22]\n",
            " [38]\n",
            " [54]\n",
            " [70]], shape=(5, 1), dtype=int32)\n"
          ]
        }
      ]
    },
    {
      "cell_type": "markdown",
      "source": [
        "#Dot Products\n",
        "Given two vectors their dot product is a sum over the products of the elements at the same position"
      ],
      "metadata": {
        "id": "qMkdUnbj8eqI"
      }
    },
    {
      "cell_type": "code",
      "source": [
        "x = tf.range(4, dtype=tf.int32)\n",
        "y = tf.ones(4, dtype=tf.int32)\n",
        "tf.tensordot(x, y, axes=1)\n",
        "tf.reduce_sum(x * y) "
      ],
      "metadata": {
        "colab": {
          "base_uri": "https://localhost:8080/"
        },
        "id": "o9V7Kt7G8huH",
        "outputId": "4e3ae4be-1f22-4d4e-d8e3-14b3b73d0950"
      },
      "execution_count": 27,
      "outputs": [
        {
          "output_type": "execute_result",
          "data": {
            "text/plain": [
              "<tf.Tensor: shape=(), dtype=int32, numpy=6>"
            ]
          },
          "metadata": {},
          "execution_count": 27
        }
      ]
    },
    {
      "cell_type": "markdown",
      "source": [
        "#Matrix-Vector Products"
      ],
      "metadata": {
        "id": "MQe45EpV8iUP"
      }
    },
    {
      "cell_type": "code",
      "source": [
        "tf.linalg.matvec(A, x)"
      ],
      "metadata": {
        "colab": {
          "base_uri": "https://localhost:8080/"
        },
        "id": "ZUCAf8948myX",
        "outputId": "8b6b3e04-b8d1-4ea1-d69c-dcd49307c2d9"
      },
      "execution_count": 28,
      "outputs": [
        {
          "output_type": "execute_result",
          "data": {
            "text/plain": [
              "<tf.Tensor: shape=(5,), dtype=int32, numpy=array([ 14,  38,  62,  86, 110], dtype=int32)>"
            ]
          },
          "metadata": {},
          "execution_count": 28
        }
      ]
    },
    {
      "cell_type": "markdown",
      "source": [
        "# Matrix-Matrix Multiplication"
      ],
      "metadata": {
        "id": "wiN6SNea8nAY"
      }
    },
    {
      "cell_type": "code",
      "source": [
        "B = tf.ones((4, 3), tf.int32)\n",
        "tf.matmul(A, B)"
      ],
      "metadata": {
        "colab": {
          "base_uri": "https://localhost:8080/"
        },
        "id": "wyiDAZoL8paw",
        "outputId": "4a713c50-9776-409f-f2b9-f4da09df622d"
      },
      "execution_count": 30,
      "outputs": [
        {
          "output_type": "execute_result",
          "data": {
            "text/plain": [
              "<tf.Tensor: shape=(5, 3), dtype=int32, numpy=\n",
              "array([[ 6,  6,  6],\n",
              "       [22, 22, 22],\n",
              "       [38, 38, 38],\n",
              "       [54, 54, 54],\n",
              "       [70, 70, 70]], dtype=int32)>"
            ]
          },
          "metadata": {},
          "execution_count": 30
        }
      ]
    },
    {
      "cell_type": "markdown",
      "source": [
        "# Norms\n",
        "The norm of a vector tells us how big a vector is"
      ],
      "metadata": {
        "id": "s3kOW9YN8stP"
      }
    },
    {
      "cell_type": "code",
      "source": [
        "u = tf.constant([3.0, -4.0])\n",
        "tf.norm(u) #norm2\n",
        "tf.reduce_sum(tf.abs(u)) #norm1"
      ],
      "metadata": {
        "colab": {
          "base_uri": "https://localhost:8080/"
        },
        "id": "myzXpAge8t5_",
        "outputId": "76019a8b-1deb-4894-d6be-bfa4228df9a4"
      },
      "execution_count": 31,
      "outputs": [
        {
          "output_type": "stream",
          "name": "stdout",
          "text": [
            "tf.Tensor(5.0, shape=(), dtype=float32)\n"
          ]
        },
        {
          "output_type": "execute_result",
          "data": {
            "text/plain": [
              "<tf.Tensor: shape=(), dtype=float32, numpy=7.0>"
            ]
          },
          "metadata": {},
          "execution_count": 31
        }
      ]
    }
  ]
}